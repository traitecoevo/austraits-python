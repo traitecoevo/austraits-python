{
 "cells": [
  {
   "cell_type": "markdown",
   "id": "21ba930f-a8f5-4a28-8858-1e0a7f38e31f",
   "metadata": {},
   "source": [
    "# Read trait definitions from _austraits_ data in python\n",
    "by: J.R. Ferrer-Paris [@jrfep](https://github.com/jrfep)\n",
    "\n",
    "We have downloaded data from [AusTraits](https://austraits.org/) ([pre-print](https://www.biorxiv.org/content/10.1101/2021.01.04.425314v1)) in a local folder.\n",
    "\n",
    "We now want to explore different trait definitions in the dictionary."
   ]
  },
  {
   "cell_type": "markdown",
   "id": "dc30984b-ce2e-4ab1-a31f-002220b6bf54",
   "metadata": {
    "tags": []
   },
   "source": [
    "## Libraries\n",
    "Let's start loading the libraries"
   ]
  },
  {
   "cell_type": "code",
   "execution_count": 1,
   "id": "9f56f0d7-46bd-40cf-9dc0-7dbed987414e",
   "metadata": {},
   "outputs": [],
   "source": [
    "from pathlib import Path\n",
    "import os\n",
    "import urllib\n",
    "from zipfile import ZipFile\n",
    "import yaml\n",
    "import re\n",
    "from IPython.display import Markdown, display\n",
    "\n"
   ]
  },
  {
   "cell_type": "markdown",
   "id": "4b62faf8-dcf1-4b1c-b166-1ce93c259909",
   "metadata": {},
   "source": [
    "## Open _austraits_ data zip file\n",
    "We list content of the data folder and locate the `zip` file."
   ]
  },
  {
   "cell_type": "code",
   "execution_count": 2,
   "id": "58a317e4-8463-4a81-8315-7d0f5c2abe55",
   "metadata": {},
   "outputs": [],
   "source": [
    "repodir = Path(\"../\") \n",
    "datafolder = repodir / \"data/austraits\" "
   ]
  },
  {
   "cell_type": "code",
   "execution_count": 3,
   "id": "4e9fdae7-eb14-4fd8-bc27-f1188962aebd",
   "metadata": {},
   "outputs": [
    {
     "name": "stdout",
     "output_type": "stream",
     "text": [
      "../data/austraits/austraits-3.0.2.zip\n"
     ]
    }
   ],
   "source": [
    "for file in os.listdir(datafolder):\n",
    "    if file.endswith(\".zip\"):\n",
    "        selected_file = datafolder / file\n",
    "        print(selected_file)\n"
   ]
  },
  {
   "cell_type": "markdown",
   "id": "d896b21b-3518-4ced-a371-85e37f48be72",
   "metadata": {},
   "source": [
    "We open this zipfile:"
   ]
  },
  {
   "cell_type": "code",
   "execution_count": 4,
   "id": "9bb28e99-14cb-4d44-a49f-1000e5d0b131",
   "metadata": {},
   "outputs": [],
   "source": [
    "zfobj = ZipFile(selected_file)"
   ]
  },
  {
   "cell_type": "markdown",
   "id": "a502dc30-b38f-485b-8240-23a49e6054c4",
   "metadata": {},
   "source": [
    "## Read Yaml file\n",
    "Read Yaml file and explore definitions of terms"
   ]
  },
  {
   "cell_type": "code",
   "execution_count": 5,
   "id": "70933eb4-c4d4-4a48-a1d6-136d6fd813ee",
   "metadata": {},
   "outputs": [
    {
     "data": {
      "text/plain": [
       "'austraits-3.0.2/definitions.yml'"
      ]
     },
     "execution_count": 5,
     "metadata": {},
     "output_type": "execute_result"
    }
   ],
   "source": [
    "ymlfile = list(filter(lambda x: re.search(r'yml', x), zfobj.namelist()))\n",
    "ymlfile[0]"
   ]
  },
  {
   "cell_type": "code",
   "execution_count": 6,
   "id": "8050439d-eb95-4092-bd01-14fd9734e463",
   "metadata": {},
   "outputs": [
    {
     "name": "stdout",
     "output_type": "stream",
     "text": [
      "dict_keys(['traits', 'value_type', 'austraits', 'metadata'])\n"
     ]
    }
   ],
   "source": [
    "with zfobj.open(ymlfile[0]) as file:\n",
    "    try:\n",
    "        ATdefinitions = yaml.safe_load(file)   \n",
    "        print(ATdefinitions.keys())\n",
    "    except yaml.YAMLError as exc:\n",
    "        print(exc)"
   ]
  },
  {
   "cell_type": "markdown",
   "id": "83d89d54-d928-4ba3-b154-6612c09276b3",
   "metadata": {},
   "source": [
    "`ATdefinition` now contains a dictionary with lots of informtion"
   ]
  },
  {
   "cell_type": "code",
   "execution_count": 7,
   "id": "ea46909d-5999-42eb-8705-bd6b0b2dabe5",
   "metadata": {},
   "outputs": [
    {
     "data": {
      "text/plain": [
       "dict"
      ]
     },
     "execution_count": 7,
     "metadata": {},
     "output_type": "execute_result"
    }
   ],
   "source": [
    "type(ATdefinitions)"
   ]
  },
  {
   "cell_type": "markdown",
   "id": "670ff2a9-a3e4-4b93-ba7c-28516f089eb2",
   "metadata": {},
   "source": [
    "Here we extract a list of terms or elements from this dictionary and start exploring terms with a keyword, for example \"fire\""
   ]
  },
  {
   "cell_type": "code",
   "execution_count": 8,
   "id": "315aa829-e728-4b71-b25d-49809ed2ad3b",
   "metadata": {
    "tags": []
   },
   "outputs": [],
   "source": [
    "terms = list(ATdefinitions['traits']['elements'].keys())"
   ]
  },
  {
   "cell_type": "code",
   "execution_count": 9,
   "id": "b3edd424-9004-4a94-b5b0-aab7e561e9bf",
   "metadata": {},
   "outputs": [
    {
     "data": {
      "text/plain": [
       "['fire_response',\n",
       " 'fire_response_detailed',\n",
       " 'fire_response_juvenile',\n",
       " 'fire_response_on_maturity',\n",
       " 'fire_cued_seeding',\n",
       " 'fire_and_establishing',\n",
       " 'fire_flame_duration',\n",
       " 'fire_fuel_bed_bulk_density',\n",
       " 'fire_fuel_comsumption',\n",
       " 'fire_rate_of_spread',\n",
       " 'fire_smoulder_duration',\n",
       " 'fire_total_burn_duration',\n",
       " 'fire_time_to_ignition',\n",
       " 'time_from_fire_to_fruit']"
      ]
     },
     "execution_count": 9,
     "metadata": {},
     "output_type": "execute_result"
    }
   ],
   "source": [
    " list(filter(lambda x: re.search(r'fire', x), terms))"
   ]
  },
  {
   "cell_type": "markdown",
   "id": "a01de976-bbc7-412a-adc0-c208187db062",
   "metadata": {},
   "source": [
    "Going one level deeper in the dictionary, let's focus on one term, and explore the values"
   ]
  },
  {
   "cell_type": "code",
   "execution_count": 10,
   "id": "8bb9058b-5adb-44d9-a308-db0f9b706a30",
   "metadata": {},
   "outputs": [
    {
     "name": "stdout",
     "output_type": "stream",
     "text": [
      "dict_keys(['description', 'type', 'label', 'values'])\n"
     ]
    }
   ],
   "source": [
    "print(ATdefinitions['traits']['elements']['fire_response'].keys())"
   ]
  },
  {
   "cell_type": "code",
   "execution_count": 11,
   "id": "6007af09-6826-4a97-b3bd-84e688785404",
   "metadata": {},
   "outputs": [
    {
     "name": "stdout",
     "output_type": "stream",
     "text": [
      "{'fire_killed': 'Plants killed by hot fires', 'resprouts': \"Plants resprout from underground storage organ following fire. (For studies that don't differentiate between respouting strength)\", 'not_fire_killed_does_not_resprout': 'Plants that are rarely killed by a moderate-intensity fire, but do not resprout', 'fire_not_relevant': 'Plant never affected by fire (for aquatic taxon)', 'unknown': 'Fire status assessed, but unknown'}\n"
     ]
    }
   ],
   "source": [
    "print(ATdefinitions['traits']['elements']['fire_response']['values'])"
   ]
  },
  {
   "cell_type": "code",
   "execution_count": 12,
   "id": "0814b8d3-6d12-4909-b65e-c8361994538c",
   "metadata": {},
   "outputs": [
    {
     "name": "stdout",
     "output_type": "stream",
     "text": [
      "{'description': 'Distinguishes between plants that are killed by fire and resprout following fire', 'type': 'categorical', 'label': 'Resprouts or is killed by fire', 'values': {'fire_killed': 'Plants killed by hot fires', 'resprouts': \"Plants resprout from underground storage organ following fire. (For studies that don't differentiate between respouting strength)\", 'not_fire_killed_does_not_resprout': 'Plants that are rarely killed by a moderate-intensity fire, but do not resprout', 'fire_not_relevant': 'Plant never affected by fire (for aquatic taxon)', 'unknown': 'Fire status assessed, but unknown'}}\n"
     ]
    }
   ],
   "source": [
    "print(ATdefinitions['traits']['elements']['fire_response'])"
   ]
  },
  {
   "cell_type": "markdown",
   "id": "5fb323d8-fd25-40dd-a245-07ca20f65d4a",
   "metadata": {},
   "source": [
    "We use this function to beautify the output using markdown:"
   ]
  },
  {
   "cell_type": "code",
   "execution_count": 13,
   "id": "21909dc5-7e15-46d0-bb9c-7c2d64c404f5",
   "metadata": {},
   "outputs": [],
   "source": [
    "def extractDefinition(x,trait):\n",
    "    y=x['traits']['elements'][trait]\n",
    "    display(Markdown(\"### Definition for trait ***%s***\" % trait))\n",
    "    for j in ('description','type','label'):\n",
    "        display(Markdown(\"**%s**\" % j))\n",
    "        display(Markdown(y[j]))\n",
    "    display(Markdown(\"**Values**\"))\n",
    "    for k,v in y['values'].items():\n",
    "        display(Markdown(\"- **%s** %s\" % (k,v)))"
   ]
  },
  {
   "cell_type": "code",
   "execution_count": 14,
   "id": "0737463f-4729-455d-8f26-a2451c6da9f4",
   "metadata": {
    "tags": []
   },
   "outputs": [
    {
     "data": {
      "text/markdown": [
       "### Definition for trait ***fire_response***"
      ],
      "text/plain": [
       "<IPython.core.display.Markdown object>"
      ]
     },
     "metadata": {},
     "output_type": "display_data"
    },
    {
     "data": {
      "text/markdown": [
       "**description**"
      ],
      "text/plain": [
       "<IPython.core.display.Markdown object>"
      ]
     },
     "metadata": {},
     "output_type": "display_data"
    },
    {
     "data": {
      "text/markdown": [
       "Distinguishes between plants that are killed by fire and resprout following fire"
      ],
      "text/plain": [
       "<IPython.core.display.Markdown object>"
      ]
     },
     "metadata": {},
     "output_type": "display_data"
    },
    {
     "data": {
      "text/markdown": [
       "**type**"
      ],
      "text/plain": [
       "<IPython.core.display.Markdown object>"
      ]
     },
     "metadata": {},
     "output_type": "display_data"
    },
    {
     "data": {
      "text/markdown": [
       "categorical"
      ],
      "text/plain": [
       "<IPython.core.display.Markdown object>"
      ]
     },
     "metadata": {},
     "output_type": "display_data"
    },
    {
     "data": {
      "text/markdown": [
       "**label**"
      ],
      "text/plain": [
       "<IPython.core.display.Markdown object>"
      ]
     },
     "metadata": {},
     "output_type": "display_data"
    },
    {
     "data": {
      "text/markdown": [
       "Resprouts or is killed by fire"
      ],
      "text/plain": [
       "<IPython.core.display.Markdown object>"
      ]
     },
     "metadata": {},
     "output_type": "display_data"
    },
    {
     "data": {
      "text/markdown": [
       "**Values**"
      ],
      "text/plain": [
       "<IPython.core.display.Markdown object>"
      ]
     },
     "metadata": {},
     "output_type": "display_data"
    },
    {
     "data": {
      "text/markdown": [
       "- **fire_killed** Plants killed by hot fires"
      ],
      "text/plain": [
       "<IPython.core.display.Markdown object>"
      ]
     },
     "metadata": {},
     "output_type": "display_data"
    },
    {
     "data": {
      "text/markdown": [
       "- **resprouts** Plants resprout from underground storage organ following fire. (For studies that don't differentiate between respouting strength)"
      ],
      "text/plain": [
       "<IPython.core.display.Markdown object>"
      ]
     },
     "metadata": {},
     "output_type": "display_data"
    },
    {
     "data": {
      "text/markdown": [
       "- **not_fire_killed_does_not_resprout** Plants that are rarely killed by a moderate-intensity fire, but do not resprout"
      ],
      "text/plain": [
       "<IPython.core.display.Markdown object>"
      ]
     },
     "metadata": {},
     "output_type": "display_data"
    },
    {
     "data": {
      "text/markdown": [
       "- **fire_not_relevant** Plant never affected by fire (for aquatic taxon)"
      ],
      "text/plain": [
       "<IPython.core.display.Markdown object>"
      ]
     },
     "metadata": {},
     "output_type": "display_data"
    },
    {
     "data": {
      "text/markdown": [
       "- **unknown** Fire status assessed, but unknown"
      ],
      "text/plain": [
       "<IPython.core.display.Markdown object>"
      ]
     },
     "metadata": {},
     "output_type": "display_data"
    }
   ],
   "source": [
    "extractDefinition(ATdefinitions,'fire_response')"
   ]
  },
  {
   "cell_type": "code",
   "execution_count": 15,
   "id": "61227175-e720-4c55-a5e5-c3186e92c039",
   "metadata": {},
   "outputs": [
    {
     "data": {
      "text/markdown": [
       "### Definition for trait ***fire_flame_duration***"
      ],
      "text/plain": [
       "<IPython.core.display.Markdown object>"
      ]
     },
     "metadata": {},
     "output_type": "display_data"
    },
    {
     "data": {
      "text/markdown": [
       "**description**"
      ],
      "text/plain": [
       "<IPython.core.display.Markdown object>"
      ]
     },
     "metadata": {},
     "output_type": "display_data"
    },
    {
     "data": {
      "text/markdown": [
       "Flame duration for a single leaf. Time from the first visible flame until no more flames could be seen (seconds)"
      ],
      "text/plain": [
       "<IPython.core.display.Markdown object>"
      ]
     },
     "metadata": {},
     "output_type": "display_data"
    },
    {
     "data": {
      "text/markdown": [
       "**type**"
      ],
      "text/plain": [
       "<IPython.core.display.Markdown object>"
      ]
     },
     "metadata": {},
     "output_type": "display_data"
    },
    {
     "data": {
      "text/markdown": [
       "numeric"
      ],
      "text/plain": [
       "<IPython.core.display.Markdown object>"
      ]
     },
     "metadata": {},
     "output_type": "display_data"
    },
    {
     "data": {
      "text/markdown": [
       "**label**"
      ],
      "text/plain": [
       "<IPython.core.display.Markdown object>"
      ]
     },
     "metadata": {},
     "output_type": "display_data"
    },
    {
     "data": {
      "text/markdown": [
       "Flame duration for a single leaf."
      ],
      "text/plain": [
       "<IPython.core.display.Markdown object>"
      ]
     },
     "metadata": {},
     "output_type": "display_data"
    },
    {
     "data": {
      "text/markdown": [
       "**Values**"
      ],
      "text/plain": [
       "<IPython.core.display.Markdown object>"
      ]
     },
     "metadata": {},
     "output_type": "display_data"
    },
    {
     "data": {
      "text/markdown": [
       "- **minimum** 0.1"
      ],
      "text/plain": [
       "<IPython.core.display.Markdown object>"
      ]
     },
     "metadata": {},
     "output_type": "display_data"
    },
    {
     "data": {
      "text/markdown": [
       "- **maximum** 200"
      ],
      "text/plain": [
       "<IPython.core.display.Markdown object>"
      ]
     },
     "metadata": {},
     "output_type": "display_data"
    }
   ],
   "source": [
    "extractDefinition(ATdefinitions,'fire_flame_duration')"
   ]
  },
  {
   "cell_type": "markdown",
   "id": "7e9a9561-0cd2-4995-a511-1c51f0f8396a",
   "metadata": {},
   "source": [
    "## Next steps\n",
    "\n",
    "We are able to read definitions from the yaml file and display them in a nice output format.\n",
    "\n"
   ]
  }
 ],
 "metadata": {
  "kernelspec": {
   "display_name": "Python 3 (ipykernel)",
   "language": "python",
   "name": "python3"
  },
  "language_info": {
   "codemirror_mode": {
    "name": "ipython",
    "version": 3
   },
   "file_extension": ".py",
   "mimetype": "text/x-python",
   "name": "python",
   "nbconvert_exporter": "python",
   "pygments_lexer": "ipython3",
   "version": "3.10.6"
  }
 },
 "nbformat": 4,
 "nbformat_minor": 5
}
